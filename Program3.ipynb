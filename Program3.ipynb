{
 "cells": [
  {
   "cell_type": "markdown",
   "id": "9042d652",
   "metadata": {},
   "source": [
    "Write a program to convert float into integer ?"
   ]
  },
  {
   "cell_type": "code",
   "execution_count": 2,
   "id": "9bf58dfd",
   "metadata": {},
   "outputs": [
    {
     "name": "stdout",
     "output_type": "stream",
     "text": [
      "12.4\n",
      "<class 'float'>\n",
      "12\n",
      "<class 'int'>\n"
     ]
    }
   ],
   "source": [
    "a = 12.4\n",
    "print(a)\n",
    "print(type(a))\n",
    "a = int(a)\n",
    "print(a)\n",
    "print(type(a))"
   ]
  },
  {
   "cell_type": "markdown",
   "id": "997f67ce",
   "metadata": {},
   "source": [
    "Write a program to take details from student fo ID card an then print it in different lines ?"
   ]
  },
  {
   "cell_type": "code",
   "execution_count": 3,
   "id": "7b368a55",
   "metadata": {},
   "outputs": [
    {
     "name": "stdout",
     "output_type": "stream",
     "text": [
      "Enter the name of Student: Tanishq Sharma\n",
      "Enter the roll number of student: 34\n",
      "Enter age of Student: 25\n",
      "Enter the Number of Student: 5325634635235\n",
      "***********************************\n",
      "Name of the student:  Tanishq Sharma\n",
      "Roll Number of student:  34\n",
      "Age of the Student:  25\n",
      "Phone Number of the stuent:  5325634635235\n"
     ]
    }
   ],
   "source": [
    "name  = input(\"Enter the name of Student: \")\n",
    "roll_no = int(input(\"Enter the roll number of student: \"))\n",
    "age = int(input(\"Enter age of Student: \"))\n",
    "ph_N = int(input(\"Enter the Number of Student: \"))\n",
    "print(\"***********************************\")\n",
    "print(\"Name of the student: \",name)\n",
    "print(\"Roll Number of student: \", roll_no)\n",
    "print(\"Age of the Student: \",age)\n",
    "print(\"Phone Number of the stuent: \",ph_N)"
   ]
  },
  {
   "cell_type": "code",
   "execution_count": null,
   "id": "7bb85e9a",
   "metadata": {},
   "outputs": [],
   "source": []
  },
  {
   "cell_type": "markdown",
   "id": "a234972b",
   "metadata": {},
   "source": [
    "Write a program to take an user input as integer then convert it to float ?"
   ]
  },
  {
   "cell_type": "code",
   "execution_count": 4,
   "id": "11503dd2",
   "metadata": {},
   "outputs": [
    {
     "name": "stdout",
     "output_type": "stream",
     "text": [
      "Enter a number here: 12\n",
      "12\n",
      "<class 'int'>\n",
      "After Conversion  12.0\n",
      "<class 'float'>\n"
     ]
    }
   ],
   "source": [
    "a = int(input(\"Enter a number here: \"))\n",
    "print(a)\n",
    "print(type(a))\n",
    "\n",
    "a = float(a)\n",
    "print(\"After Conversion \",a)\n",
    "print(type(a))"
   ]
  }
 ],
 "metadata": {
  "kernelspec": {
   "display_name": "Python 3 (ipykernel)",
   "language": "python",
   "name": "python3"
  },
  "language_info": {
   "codemirror_mode": {
    "name": "ipython",
    "version": 3
   },
   "file_extension": ".py",
   "mimetype": "text/x-python",
   "name": "python",
   "nbconvert_exporter": "python",
   "pygments_lexer": "ipython3",
   "version": "3.7.3"
  }
 },
 "nbformat": 4,
 "nbformat_minor": 5
}
