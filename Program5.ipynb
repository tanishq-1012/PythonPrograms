{
 "cells": [
  {
   "cell_type": "markdown",
   "id": "fd557159",
   "metadata": {},
   "source": [
    "Write a python program to check whether a given number is even or odd using recursion ?"
   ]
  },
  {
   "cell_type": "code",
   "execution_count": 1,
   "id": "15efd11b",
   "metadata": {},
   "outputs": [
    {
     "name": "stdout",
     "output_type": "stream",
     "text": [
      "Enter a number: 56\n",
      "The number 56 is even.\n"
     ]
    }
   ],
   "source": [
    "def is_even(number):\n",
    "    if number == 0:\n",
    "        return True\n",
    "    elif number == 1:\n",
    "        return False\n",
    "    else:\n",
    "        return is_even(number -2)\n",
    "    \n",
    "num = int(input(\"Enter a number: \"))\n",
    "\n",
    "if is_even(num):\n",
    "    print(f\"The number {num} is even.\")\n",
    "    \n",
    "else:\n",
    "    print(f\"The number {num} is odd.\")"
   ]
  },
  {
   "cell_type": "code",
   "execution_count": null,
   "id": "09d655c2",
   "metadata": {},
   "outputs": [],
   "source": []
  }
 ],
 "metadata": {
  "kernelspec": {
   "display_name": "Python 3 (ipykernel)",
   "language": "python",
   "name": "python3"
  },
  "language_info": {
   "codemirror_mode": {
    "name": "ipython",
    "version": 3
   },
   "file_extension": ".py",
   "mimetype": "text/x-python",
   "name": "python",
   "nbconvert_exporter": "python",
   "pygments_lexer": "ipython3",
   "version": "3.7.3"
  }
 },
 "nbformat": 4,
 "nbformat_minor": 5
}
