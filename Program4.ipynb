{
 "cells": [
  {
   "cell_type": "markdown",
   "id": "f3220d5f",
   "metadata": {},
   "source": [
    "Write a program to check whether the passed letter is a vowel or not ?"
   ]
  },
  {
   "cell_type": "code",
   "execution_count": 1,
   "id": "275940ef",
   "metadata": {},
   "outputs": [
    {
     "name": "stdout",
     "output_type": "stream",
     "text": [
      "Enter a letter: a\n",
      "Entered word is a vowel\n"
     ]
    }
   ],
   "source": [
    "letter = input(\"Enter a letter: \")\n",
    "if(letter in \"aeiou\")or(letter in \"AEIOU\"):\n",
    "    print(\"Entered word is a vowel\")\n",
    "else:\n",
    "    print(\"Entered word is not a vowel\")"
   ]
  },
  {
   "cell_type": "code",
   "execution_count": null,
   "id": "505d1d6f",
   "metadata": {},
   "outputs": [],
   "source": []
  },
  {
   "cell_type": "markdown",
   "id": "0bde9ab8",
   "metadata": {},
   "source": [
    "Write a program to check if a number is 2 digit number and so on up to 5 digits ?\n"
   ]
  },
  {
   "cell_type": "code",
   "execution_count": null,
   "id": "2ba978f0",
   "metadata": {},
   "outputs": [],
   "source": [
    "num = int(input(\"Enter a number here up to 5 digits: \"))\n",
    "\n",
    "if num >=0 and num<=9:\n",
    "    print(\"It is a single digit number\")\n",
    "elif num>=10 and num<=99:\n",
    "    print(\"It is a two digit number\")\n",
    "elif num>=100 and num<=999:\n",
    "    print(\"It is a three digit number\")\n",
    "elif num>=1000 and num<=9999:\n",
    "    print(\"It is a four digit number\")\n",
    "else:\n",
    "    print(\"It is a five digit number\")"
   ]
  }
 ],
 "metadata": {
  "kernelspec": {
   "display_name": "Python 3 (ipykernel)",
   "language": "python",
   "name": "python3"
  },
  "language_info": {
   "codemirror_mode": {
    "name": "ipython",
    "version": 3
   },
   "file_extension": ".py",
   "mimetype": "text/x-python",
   "name": "python",
   "nbconvert_exporter": "python",
   "pygments_lexer": "ipython3",
   "version": "3.7.3"
  }
 },
 "nbformat": 4,
 "nbformat_minor": 5
}
