{
 "cells": [
  {
   "cell_type": "markdown",
   "id": "afd5d988",
   "metadata": {},
   "source": [
    "Write a program to display person's age, name, address i three  different lines ?"
   ]
  },
  {
   "cell_type": "code",
   "execution_count": 2,
   "id": "3287c1d2",
   "metadata": {},
   "outputs": [
    {
     "name": "stdout",
     "output_type": "stream",
     "text": [
      "Enter the name of person: Tanishq Sharma\n",
      "Enetr the age of the person: 25\n",
      "Enter the address of the person: 58-C DDA Flats\n",
      "********************************************************\n",
      "Name of the person:  Tanishq Sharma\n",
      "Age of the person:  25\n",
      "Address of the person:  58-C DDA Flats\n"
     ]
    }
   ],
   "source": [
    "name = input(\"Enter the name of person: \")\n",
    "age = int(input(\"Enetr the age of the person: \"))\n",
    "address = input(\"Enter the address of the person: \")\n",
    "print(\"********************************************************\")\n",
    "print(\"Name of the person: \",name)\n",
    "print(\"Age of the person: \",age)\n",
    "print(\"Address of the person: \",address)\n"
   ]
  },
  {
   "cell_type": "markdown",
   "id": "a5f66d24",
   "metadata": {},
   "source": [
    " Write a program to swap two numbers ?\n"
   ]
  },
  {
   "cell_type": "code",
   "execution_count": 3,
   "id": "afc4145a",
   "metadata": {},
   "outputs": [
    {
     "name": "stdout",
     "output_type": "stream",
     "text": [
      "12 13\n",
      "13 13\n"
     ]
    }
   ],
   "source": [
    "a = 12\n",
    "b = 13\n",
    "\n",
    "print(a,b)\n",
    "\n",
    "temp = a\n",
    "a = b\n",
    "y = temp\n",
    "\n",
    "print(a,b)"
   ]
  },
  {
   "cell_type": "code",
   "execution_count": 4,
   "id": "5dde740e",
   "metadata": {},
   "outputs": [
    {
     "name": "stdout",
     "output_type": "stream",
     "text": [
      "30 40\n",
      "40 30\n"
     ]
    }
   ],
   "source": [
    "#Method 2\n",
    "a = 30\n",
    "b = 40\n",
    "print(a,b)\n",
    "a,b = b,a\n",
    "print(a,b)"
   ]
  }
 ],
 "metadata": {
  "kernelspec": {
   "display_name": "Python 3 (ipykernel)",
   "language": "python",
   "name": "python3"
  },
  "language_info": {
   "codemirror_mode": {
    "name": "ipython",
    "version": 3
   },
   "file_extension": ".py",
   "mimetype": "text/x-python",
   "name": "python",
   "nbconvert_exporter": "python",
   "pygments_lexer": "ipython3",
   "version": "3.7.3"
  }
 },
 "nbformat": 4,
 "nbformat_minor": 5
}
